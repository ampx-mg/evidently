{
 "cells": [
  {
   "cell_type": "code",
   "execution_count": null,
   "metadata": {},
   "outputs": [],
   "source": [
    "try:\n",
    "    import evidently\n",
    "except:\n",
    "    !npm install -g yarn\n",
    "    !pip install git+https://github.com/evidentlyai/evidently.git@test_suite_alpha"
   ]
  },
  {
   "cell_type": "code",
   "execution_count": null,
   "metadata": {},
   "outputs": [],
   "source": [
    "import pandas as pd\n",
    "import numpy as np\n",
    "\n",
    "from evidently.test_suite import TestSuite\n",
    "from evidently.tests import TestNumberOfColumns\n",
    "from evidently.tests import TestNumberOfDriftedFeatures\n",
    "from evidently.tests import TestValueMAE, TestValueMeanError\n",
    "from evidently.tests import TestAccuracyScore, TestPrecisionScore, TestF1Score, TestRecallScore, TestRocAuc, TestLogLoss, TestTPR, TestTNR, TestFPR, TestFNR\n",
    "from evidently.tests import TestPrecisionByClass, TestRecallByClass, TestF1ByClass"
   ]
  },
  {
   "cell_type": "markdown",
   "metadata": {
    "pycharm": {
     "name": "#%% md\n"
    }
   },
   "source": [
    "### Creation for Test Suites with some tests (Simplified variant)"
   ]
  },
  {
   "cell_type": "code",
   "execution_count": null,
   "metadata": {
    "pycharm": {
     "name": "#%%\n"
    }
   },
   "outputs": [],
   "source": [
    "from evidently import ColumnMapping\n",
    "from datetime import datetime\n",
    "from sklearn.datasets import fetch_openml\n",
    "\n",
    "suite = TestSuite(tests=[\n",
    "    TestNumberOfColumns(gt=1),\n",
    "    # TestNumberOfDriftedFeatures(),\n",
    "    TestValueMAE(),\n",
    "    TestValueMeanError(),\n",
    "])\n",
    "\n",
    "data = fetch_openml(name='adult', version=2, as_frame='auto')\n",
    "df = data.frame\n",
    "\n",
    "ref = df[:20000]\n",
    "curr = df[20000:]\n",
    "\n",
    "curr['target'] = curr['education-num']\n",
    "curr['preds'] = curr['education-num'].values + np.random.normal(0, 6, curr.shape[0])\n",
    "ref['target'] = ref['education-num']\n",
    "ref['preds'] = ref['education-num'].values + np.random.normal(0, 6, ref.shape[0])\n",
    "\n",
    "# pd.DataFrame([{'a': 1, 'c': datetime.now(), 'b': 2}])\n",
    "# pd.DataFrame([{'a': 2,'c': datetime.now(),  'b': None}, {'a': 1, 'b': 2}])\n",
    "suite.run(reference_data=None,\n",
    "          current_data=curr, column_mapping=ColumnMapping(target='target', prediction='preds'))\n",
    "suite"
   ]
  },
  {
   "cell_type": "code",
   "execution_count": null,
   "outputs": [],
   "source": [
    "suite_with_reference = TestSuite(tests=[\n",
    "    TestNumberOfColumns(gt=1),\n",
    "    TestNumberOfDriftedFeatures(),\n",
    "    TestValueMAE(),\n",
    "    TestValueMeanError(),\n",
    "])\n",
    "\n",
    "data = fetch_openml(name='adult', version=2, as_frame='auto')\n",
    "df = data.frame\n",
    "\n",
    "ref = df[:20000]\n",
    "curr = df[20000:]\n",
    "\n",
    "curr['target'] = curr['education-num']\n",
    "curr['preds'] = curr['education-num'].values + np.random.normal(0, 6, curr.shape[0])\n",
    "ref['target'] = ref['education-num']\n",
    "ref['preds'] = ref['education-num'].values + np.random.normal(0, 6, ref.shape[0])\n",
    "\n",
    "# pd.DataFrame([{'a': 1, 'c': datetime.now(), 'b': 2}])\n",
    "# pd.DataFrame([{'a': 2,'c': datetime.now(),  'b': None}, {'a': 1, 'b': 2}])\n",
    "suite_with_reference.run(reference_data=ref,\n",
    "          current_data=curr, column_mapping=ColumnMapping(target='target', prediction='preds'))\n",
    "suite_with_reference"
   ],
   "metadata": {
    "collapsed": false,
    "pycharm": {
     "name": "#%%\n"
    }
   }
  },
  {
   "cell_type": "code",
   "execution_count": null,
   "outputs": [],
   "source": [
    "from sklearn import datasets, ensemble, model_selection\n",
    "bcancer = datasets.load_breast_cancer(as_frame=True)\n",
    "bcancer_frame = bcancer.frame\n",
    "bcancer_frame['target'] = bcancer.target\n",
    "target = 'target'\n",
    "prediction = 'prediction'\n",
    "\n",
    "numerical_features = bcancer.feature_names\n",
    "categorical_features = []\n",
    "\n",
    "features = numerical_features.tolist() + categorical_features\n",
    "train_data, test_data = model_selection.train_test_split(\n",
    "    bcancer_frame, random_state=0)\n",
    "model = ensemble.RandomForestClassifier(random_state=0)\n",
    "model.fit(train_data[features], train_data.target)\n",
    "train_predictions = model.predict(train_data[features])\n",
    "test_predictions = model.predict(test_data[features])\n",
    "train_data['prediction'] = [bcancer.target_names[x] for x in train_predictions]\n",
    "test_data['prediction'] = [bcancer.target_names[x] for x in test_predictions]\n",
    "\n",
    "train_data['target'] = [bcancer.target_names[x] for x in train_data['target']]\n",
    "test_data['target'] = [bcancer.target_names[x] for x in test_data['target']]\n",
    "\n",
    "train_data.reset_index(inplace=True, drop=True)\n",
    "test_data.reset_index(inplace=True, drop=True)\n",
    "\n",
    "train_data[bcancer.target_names] = model.predict_proba(train_data[features])\n",
    "test_data[bcancer.target_names] = model.predict_proba(test_data[features])\n",
    "bcancer_column_mapping = ColumnMapping()\n",
    "\n",
    "bcancer_column_mapping.target = target\n",
    "bcancer_column_mapping.prediction = prediction\n",
    "bcancer_column_mapping.numerical_features = numerical_features\n",
    "\n",
    "\n",
    "tests = [TestAccuracyScore(),\n",
    "         TestPrecisionScore(),\n",
    "         TestF1Score(),\n",
    "         TestRecallScore(),\n",
    "         TestTPR(),\n",
    "         TestTNR(),\n",
    "         TestFPR(),\n",
    "         TestFNR(),\n",
    "         *[TestPrecisionByClass(label=label) for label in bcancer.target_names],\n",
    "         *[TestRecallByClass(label=label) for label in bcancer.target_names],\n",
    "         *[TestF1ByClass(label=label) for label in bcancer.target_names],\n",
    "]\n",
    "\n",
    "suite_classification = TestSuite(tests=tests)\n",
    "\n",
    "suite_classification.run(reference_data=None, current_data=test_data, column_mapping=bcancer_column_mapping)\n",
    "suite_classification"
   ],
   "metadata": {
    "collapsed": false,
    "pycharm": {
     "name": "#%%\n"
    }
   }
  },
  {
   "cell_type": "code",
   "execution_count": null,
   "outputs": [],
   "source": [
    "suite_classification_with_reference = TestSuite(tests=tests)\n",
    "\n",
    "suite_classification_with_reference.run(reference_data=train_data, current_data=test_data, column_mapping=bcancer_column_mapping)\n",
    "suite_classification_with_reference"
   ],
   "metadata": {
    "collapsed": false,
    "pycharm": {
     "name": "#%%\n"
    }
   }
  },
  {
   "cell_type": "code",
   "execution_count": null,
   "outputs": [],
   "source": [
    "bcancer_column_mapping_probas = ColumnMapping()\n",
    "\n",
    "bcancer_column_mapping_probas.target = target\n",
    "bcancer_column_mapping_probas.prediction = bcancer.target_names.tolist()\n",
    "bcancer_column_mapping_probas.numerical_features = numerical_features\n",
    "\n",
    "suite_classification_probas = TestSuite(tests=tests + [TestRocAuc(), TestLogLoss()])\n",
    "\n",
    "suite_classification_probas.run(reference_data=train_data, current_data=test_data, column_mapping=bcancer_column_mapping_probas)\n",
    "suite_classification_probas"
   ],
   "metadata": {
    "collapsed": false,
    "pycharm": {
     "name": "#%%\n"
    }
   }
  },
  {
   "cell_type": "markdown",
   "metadata": {
    "pycharm": {
     "name": "#%% md\n"
    }
   },
   "source": [
    "### Show default inline in notebook"
   ]
  },
  {
   "cell_type": "markdown",
   "metadata": {
    "pycharm": {
     "name": "#%% md\n"
    }
   },
   "source": [
    "### Show non-default in notebook"
   ]
  },
  {
   "cell_type": "code",
   "execution_count": null,
   "metadata": {
    "pycharm": {
     "name": "#%%\n"
    }
   },
   "outputs": [],
   "source": [
    "suite.show(mode=\"inline\")"
   ]
  },
  {
   "cell_type": "code",
   "execution_count": null,
   "outputs": [],
   "source": [
    "suite_with_reference.show(mode=\"inline\")"
   ],
   "metadata": {
    "collapsed": false,
    "pycharm": {
     "name": "#%%\n"
    }
   }
  },
  {
   "cell_type": "markdown",
   "metadata": {
    "pycharm": {
     "name": "#%% md\n"
    }
   },
   "source": [
    "### Save standalone html"
   ]
  },
  {
   "cell_type": "code",
   "execution_count": null,
   "metadata": {
    "pycharm": {
     "name": "#%%\n"
    }
   },
   "outputs": [],
   "source": [
    "suite.save_html(\"example.html\")"
   ]
  },
  {
   "cell_type": "code",
   "execution_count": null,
   "outputs": [],
   "source": [
    "suite_with_reference.save_html(\"example_with_reference.html\")"
   ],
   "metadata": {
    "collapsed": false,
    "pycharm": {
     "name": "#%%\n"
    }
   }
  },
  {
   "cell_type": "code",
   "execution_count": null,
   "outputs": [],
   "source": [],
   "metadata": {
    "collapsed": false,
    "pycharm": {
     "name": "#%%\n"
    }
   }
  },
  {
   "cell_type": "code",
   "execution_count": null,
   "outputs": [],
   "source": [
    "suite_classification.save_html(\"example_classification.html\")\n",
    "suite_classification_probas.save_html(\"example_classification_probas.html\")"
   ],
   "metadata": {
    "collapsed": false,
    "pycharm": {
     "name": "#%%\n"
    }
   }
  },
  {
   "cell_type": "code",
   "execution_count": null,
   "outputs": [],
   "source": [
    "suite_classification_with_reference.save_html(\"example_classification_with_reference.html\")"
   ],
   "metadata": {
    "collapsed": false,
    "pycharm": {
     "name": "#%%\n"
    }
   }
  },
  {
   "cell_type": "code",
   "execution_count": null,
   "metadata": {
    "pycharm": {
     "name": "#%%\n"
    }
   },
   "outputs": [],
   "source": [
    "suite.json()"
   ]
  },
  {
   "cell_type": "code",
   "execution_count": null,
   "outputs": [],
   "source": [
    "suite_with_reference.json()"
   ],
   "metadata": {
    "collapsed": false,
    "pycharm": {
     "name": "#%%\n"
    }
   }
  },
  {
   "cell_type": "code",
   "execution_count": null,
   "outputs": [],
   "source": [
    "suite_classification.json()"
   ],
   "metadata": {
    "collapsed": false,
    "pycharm": {
     "name": "#%%\n"
    }
   }
  },
  {
   "cell_type": "code",
   "execution_count": null,
   "outputs": [],
   "source": [
    "suite_classification_with_reference.json()"
   ],
   "metadata": {
    "collapsed": false,
    "pycharm": {
     "name": "#%%\n"
    }
   }
  },
  {
   "cell_type": "code",
   "execution_count": null,
   "metadata": {
    "pycharm": {
     "name": "#%%\n"
    }
   },
   "outputs": [],
   "source": [
    "suite.save_json(\"example.json\")"
   ]
  }
 ],
 "metadata": {
  "kernelspec": {
   "display_name": "Python 3 (ipykernel)",
   "language": "python",
   "name": "python3"
  },
  "language_info": {
   "codemirror_mode": {
    "name": "ipython",
    "version": 3
   },
   "file_extension": ".py",
   "mimetype": "text/x-python",
   "name": "python",
   "nbconvert_exporter": "python",
   "pygments_lexer": "ipython3",
   "version": "3.8.9"
  }
 },
 "nbformat": 4,
 "nbformat_minor": 1
}